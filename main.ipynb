{
 "cells": [
  {
   "cell_type": "markdown",
   "metadata": {},
   "source": [
    "## Download Required Dependencies"
   ]
  },
  {
   "cell_type": "code",
   "execution_count": null,
   "metadata": {},
   "outputs": [],
   "source": [
    "import subprocess\n",
    "import sys\n",
    "\n",
    "# Function to install a package using pip\n",
    "def install_package(package):\n",
    "    subprocess.check_call([sys.executable, \"-m\", \"pip\", \"install\", package])\n",
    "\n",
    "# List of required packages\n",
    "required_packages = [\n",
    "    \"scikit-image\",\n",
    "    \"numpy\",\n",
    "    \"matplotlib\",\n",
    "    \"opencv-python\",\n",
    "    \"roboflow\",\n",
    "    \n",
    "]\n",
    "\n",
    "# Check and install each package\n",
    "for package in required_packages:\n",
    "    try:\n",
    "        __import__(package)\n",
    "    except ImportError:\n",
    "        print(f\"Installing {package}...\")\n",
    "        install_package(package)"
   ]
  },
  {
   "cell_type": "markdown",
   "metadata": {},
   "source": [
    "## Implementation of HOG Feature Descriptor"
   ]
  },
  {
   "cell_type": "markdown",
   "metadata": {},
   "source": [
    "Implementation of HOG Feature Descriptor involves the following steps:\n",
    "1. Preprocess the data\n",
    "2. Calculate and Visualize the Histogram of Gradients\n"
   ]
  },
  {
   "cell_type": "markdown",
   "metadata": {},
   "source": [
    "### Step 1: Preprocess the data"
   ]
  },
  {
   "cell_type": "code",
   "execution_count": null,
   "metadata": {},
   "outputs": [],
   "source": [
    "from skimage.io import imread, imshow\n",
    "from skimage.transform import resize\n",
    "from skimage.color import rgb2gray\n",
    "import matplotlib.pyplot as plt\n",
    "import numpy as np\n",
    "import math\n",
    "import cv2\n",
    "\n",
    "image_BGR = cv2.imread(\"./media/puppy.jpg\")\n",
    "image_RGB = cv2.cvtColor(image_BGR, cv2.COLOR_BGR2RGB)\n",
    "\n",
    "gray_image = cv2.cvtColor(image_BGR, cv2.COLOR_BGR2GRAY) \n",
    "\n",
    "resized_image = resize(image=image_RGB, output_shape=(128,64))\n",
    "resized_gray_image = resize(image=gray_image, output_shape=(128,64))\n",
    "\n",
    "fig, axes = plt.subplots(2, 2)\n",
    "axes[0, 0].imshow(image_RGB)\n",
    "axes[0, 1].imshow(resized_image)\n",
    "axes[1, 0].imshow(gray_image, cmap='gray')\n",
    "axes[1, 1].imshow(resized_gray_image, cmap='gray')\n"
   ]
  },
  {
   "cell_type": "markdown",
   "metadata": {},
   "source": [
    "### Step 2: Calculate and Visualize the Histogram of Gradients\n"
   ]
  },
  {
   "cell_type": "code",
   "execution_count": null,
   "metadata": {},
   "outputs": [],
   "source": [
    "from skimage.feature import hog\n",
    "from skimage import exposure\n",
    "\n",
    "import cv2\n",
    "\n",
    "fd, hog_image = hog(resized_gray_image, orientations=9, pixels_per_cell=(8, 8), cells_per_block=(2, 2), visualize=True)\n",
    "\n",
    "fig, (ax1, ax2, ax3) = plt.subplots(1, 3, figsize=(8, 4), sharex=True, sharey=True)\n",
    "\n",
    "ax1.imshow(resized_image)\n",
    "ax1.set_title('Input image')\n",
    "\n",
    "ax2.imshow(resized_gray_image, cmap=plt.cm.gray)\n",
    "ax2.set_title('Grayscale image') \n",
    "\n",
    "ax3.imshow(hog_image, cmap=plt.cm.gray)\n",
    "ax3.set_title('Histogram of Oriented Gradients') \n",
    "\n",
    "\n",
    "\n"
   ]
  },
  {
   "cell_type": "markdown",
   "metadata": {},
   "source": [
    "## Implementation of eXtended Center-Symmetric Local Binary Pattern (XCS-LBP) Feature Descriptor"
   ]
  },
  {
   "cell_type": "markdown",
   "metadata": {},
   "source": [
    "### Step 1: Calculate XCS-LBP operator applied to the whole grayscale image"
   ]
  },
  {
   "cell_type": "code",
   "execution_count": 19,
   "metadata": {},
   "outputs": [],
   "source": [
    "image_BGR = cv2.imread(\"./media/puppy.jpg\")\n",
    "image_RGB = cv2.cvtColor(image_BGR, cv2.COLOR_BGR2RGB)\n",
    "gray_image = cv2.cvtColor(image_RGB, cv2.COLOR_BGR2GRAY) \n",
    "\n",
    "def valid_index(image, x, y):\n",
    "    return (x >= 0 and y >= 0 and x < image.shape[0] and y < image.shape[1])\n",
    "\n",
    "def threshold_function(x):\n",
    "    return 1 if x >= 0 else 0\n",
    "\n",
    "def calculate_xcs_lbp_value(x, y, image, neighborhood_size=8):\n",
    "    result = 0\n",
    "    mask = [(-1, -1), (-1, 0), (-1, 1), (0, 1), (1, 1), (1, 0), (1, -1), (0, -1)]\n",
    "    half_neighborhood_size = int(neighborhood_size/2)\n",
    "    image=image.astype('float32')\n",
    "    for i in range(half_neighborhood_size):\n",
    "        index1 = (x+mask[i][0], y+mask[i][1])\n",
    "        index2 = (x+mask[i+half_neighborhood_size][0], y+mask[i+half_neighborhood_size][1])\n",
    "        value1 = image[index1[0], index1[1]] if valid_index(image, index1[0], index1[1]) else 0\n",
    "        value2 = image[index2[0], index2[1]] if valid_index(image, index2[0], index2[1]) else 0\n",
    "\n",
    "        g1 = (value1-value2) + image[x, y]\n",
    "        g2 = (value1-image[x, y])*(value2-image[x, y])\n",
    "        power_val = [1, 2, 4, 8, 16, 32, 64, 128]\n",
    "        result += (threshold_function(g1+g2)*power_val[i])\n",
    "    return result\n",
    "\n",
    "xcs_lbp_image = gray_image.copy()\n",
    "for i in range(xcs_lbp_image.shape[0]):\n",
    "    for j in range(xcs_lbp_image.shape[1]):\n",
    "        xcs_lbp_image[i, j] = calculate_xcs_lbp_value(i, j, gray_image)\n"
   ]
  },
  {
   "cell_type": "code",
   "execution_count": null,
   "metadata": {},
   "outputs": [],
   "source": [
    "fig, (ax1, ax2, ax3) = plt.subplots(1, 3, figsize=(12,8))\n",
    "ax1.imshow(image_RGB)\n",
    "ax1.set_title(\"Input Image\")\n",
    "ax2.imshow(gray_image, cmap='gray')\n",
    "ax2.set_title(\"Grayscale Image\")\n",
    "ax3.imshow(xcs_lbp_image, cmap='gray')\n",
    "ax3.set_title(\"XCS-LBP\")\n"
   ]
  }
 ],
 "metadata": {
  "kernelspec": {
   "display_name": "Python 3",
   "language": "python",
   "name": "python3"
  },
  "language_info": {
   "codemirror_mode": {
    "name": "ipython",
    "version": 3
   },
   "file_extension": ".py",
   "mimetype": "text/x-python",
   "name": "python",
   "nbconvert_exporter": "python",
   "pygments_lexer": "ipython3",
   "version": "3.12.1"
  }
 },
 "nbformat": 4,
 "nbformat_minor": 2
}
